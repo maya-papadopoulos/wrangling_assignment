{
  "cells": [
    {
      "cell_type": "markdown",
      "id": "13ad028b-72b7-43ed-aa78-96fd4e518040",
      "metadata": {
        "id": "13ad028b-72b7-43ed-aa78-96fd4e518040"
      },
      "source": [
        "# Assignment: Data Wrangling\n",
        "### `! git clone https://github.com/ds3001f25/wrangling_assignment.git`\n",
        "### Do Q1 and Q2\n",
        "### Reading material: `tidy_data.pdf`"
      ]
    },
    {
      "cell_type": "code",
      "source": [
        "import numpy as np\n",
        "import matplotlib.pyplot as plt\n",
        "import pandas as pd\n",
        "airbnb_df = pd.read_csv('/airbnb_hw.csv')\n",
        "police_df = pd.read_csv('/mn_police_use_of_force.csv')\n",
        "just_df = pd.read_parquet('/justice_data.parquet')"
      ],
      "metadata": {
        "id": "XzlJ2VBdkXPu"
      },
      "id": "XzlJ2VBdkXPu",
      "execution_count": 27,
      "outputs": []
    },
    {
      "cell_type": "markdown",
      "id": "da879ea7-8aac-48a3-b6c2-daea56d2e072",
      "metadata": {
        "id": "da879ea7-8aac-48a3-b6c2-daea56d2e072"
      },
      "source": [
        "**Q1.** This question provides some practice cleaning variables which have common problems.\n",
        "1. Numeric variable: For `./data/airbnb_hw.csv`, clean the `Price` variable as well as you can, and explain the choices you make. How many missing values do you end up with? (Hint: What happens to the formatting when a price goes over 999 dollars, say from 675 to 1,112?)\n",
        "2. Categorical variable: For the Minnesota police use of for data, `./data/mn_police_use_of_force.csv`, clean the `subject_injury` variable, handling the NA's; this gives a value `Yes` when a person was injured by police, and `No` when no injury occurred. What proportion of the values are missing? Is this a concern? Cross-tabulate your cleaned `subject_injury` variable with the `force_type` variable. Are there any patterns regarding when the data are missing?\n",
        "3. Dummy variable: For the pretrial data covered in the lecture `./data/justice_data.parquet`, clean the `WhetherDefendantWasReleasedPretrial` variable as well as you can, and, in particular, replace missing values with `np.nan`.\n",
        "4. Missing values, not at random: For the pretrial data covered in the lecture, clean the `ImposedSentenceAllChargeInContactEvent` variable as well as you can, and explain the choices you make. (Hint: Look at the `SentenceTypeAllChargesAtConvictionInContactEvent` variable.)"
      ]
    },
    {
      "cell_type": "code",
      "execution_count": 6,
      "id": "9d412a8d",
      "metadata": {
        "colab": {
          "base_uri": "https://localhost:8080/",
          "height": 1000
        },
        "collapsed": true,
        "id": "9d412a8d",
        "outputId": "735b46f2-4aff-44e4-d450-a116002c85a9"
      },
      "outputs": [
        {
          "output_type": "stream",
          "name": "stdout",
          "text": [
            "['145' '37' '28' '199' '549' '149' '250' '90' '270' '290' '170' '59' '49'\n",
            " '68' '285' '75' '100' '150' '700' '125' '175' '40' '89' '95' '99' '499'\n",
            " '120' '79' '110' '180' '143' '230' '350' '135' '85' '60' '70' '55' '44'\n",
            " '200' '165' '115' '74' '84' '129' '50' '185' '80' '190' '140' '45' '65'\n",
            " '225' '600' '109' '1,990' '73' '240' '72' '105' '155' '160' '42' '132'\n",
            " '117' '295' '280' '159' '107' '69' '239' '220' '399' '130' '375' '585'\n",
            " '275' '139' '260' '35' '133' '300' '289' '179' '98' '195' '29' '27' '39'\n",
            " '249' '192' '142' '169' '1,000' '131' '138' '113' '122' '329' '101' '475'\n",
            " '238' '272' '308' '126' '235' '315' '248' '128' '56' '207' '450' '215'\n",
            " '210' '385' '445' '136' '247' '118' '77' '76' '92' '198' '205' '299'\n",
            " '222' '245' '104' '153' '349' '114' '320' '292' '226' '420' '500' '325'\n",
            " '307' '78' '265' '108' '123' '189' '32' '58' '86' '219' '800' '335' '63'\n",
            " '229' '425' '67' '87' '1,200' '158' '650' '234' '310' '695' '400' '166'\n",
            " '119' '62' '168' '340' '479' '43' '395' '144' '52' '47' '529' '187' '209'\n",
            " '233' '82' '269' '163' '172' '305' '156' '550' '435' '137' '124' '48'\n",
            " '279' '330' '5,000' '134' '378' '97' '277' '64' '193' '147' '186' '264'\n",
            " '30' '3,000' '112' '94' '379' '57' '415' '236' '410' '214' '88' '66' '71'\n",
            " '171' '157' '545' '1,500' '83' '96' '1,800' '81' '188' '380' '255' '505'\n",
            " '54' '33' '174' '93' '740' '640' '1,300' '440' '599' '357' '1,239' '495'\n",
            " '127' '5,999' '178' '348' '152' '242' '183' '253' '750' '259' '365' '273'\n",
            " '197' '397' '103' '389' '355' '559' '38' '203' '999' '141' '162' '333'\n",
            " '698' '46' '360' '895' '10' '41' '206' '281' '449' '388' '212' '102'\n",
            " '201' '2,750' '4,750' '432' '675' '167' '390' '298' '339' '194' '302'\n",
            " '211' '595' '191' '53' '361' '480' '8,000' '4,500' '459' '997' '345'\n",
            " '216' '218' '111' '735' '276' '91' '490' '850' '398' '36' '775' '267'\n",
            " '625' '336' '2,500' '176' '725' '3,750' '469' '106' '460' '287' '575'\n",
            " '227' '263' '25' '228' '208' '177' '880' '148' '116' '685' '470' '217'\n",
            " '164' '61' '645' '699' '405' '252' '319' '268' '419' '343' '525' '311'\n",
            " '840' '154' '294' '950' '409' '184' '257' '204' '241' '2,000' '412' '121'\n",
            " '288' '196' '900' '647' '524' '1,750' '309' '510' '1,495' '1,700' '799'\n",
            " '383' '372' '492' '327' '1,999' '656' '224' '173' '875' '1,170' '795'\n",
            " '690' '146' '465' '1,100' '151' '274' '429' '825' '282' '256' '1,111'\n",
            " '620' '271' '161' '51' '855' '579' '1,174' '430' '20' '899' '649' '485'\n",
            " '181' '455' '4,000' '243' '342' '590' '560' '374' '437' '232' '359' '985'\n",
            " '31' '244' '254' '723' '237' '428' '370' '34' '1,400' '580' '2,520' '221'\n",
            " '749' '1,600' '2,695' '306' '202' '680' '570' '520' '223' '2,295' '213'\n",
            " '1,065' '346' '24' '286' '296' '266' '26' '995' '1,368' '393' '182' '635'\n",
            " '258' '780' '589' '347' '1,250' '1,350' '446' '3,200' '1,050' '1,650'\n",
            " '1,550' '975' '323' '6,500' '2,499' '1,850' '2,250' '715' '461' '540'\n",
            " '356' '439' '384' '569' '1,900' '22' '785' '626' '830' '318' '444' '321'\n",
            " '401' '1,499' '888' '369' '770' '386' '366' '344' '630' '313' '597' '262'\n",
            " '509' '10,000' '278' '312' '789' '1,195' '422' '21' '765' '3,500' '945'\n",
            " '326' '3,100' '2,486' '3,390' '1,356' '2,599' '472' '454' '328' '396'\n",
            " '291'] \n",
            "\n",
            "Price\n",
            "150    1481\n",
            "100    1207\n",
            "200    1059\n",
            "125     889\n",
            "75      873\n",
            "       ... \n",
            "472       1\n",
            "454       1\n",
            "328       1\n",
            "396       1\n",
            "291       1\n",
            "Name: count, Length: 511, dtype: int64 \n",
            "\n",
            "After coercion: \n",
            " count    30478.000000\n",
            "mean       163.589737\n",
            "std        197.785454\n",
            "min         10.000000\n",
            "25%         80.000000\n",
            "50%        125.000000\n",
            "75%        195.000000\n",
            "max      10000.000000\n",
            "Name: Price, dtype: float64 \n",
            "\n",
            "Total Missings: \n",
            " 0 \n",
            "\n",
            "Axes(0.125,0.11;0.775x0.77) \n",
            "\n"
          ]
        },
        {
          "output_type": "display_data",
          "data": {
            "text/plain": [
              "<Figure size 640x480 with 1 Axes>"
            ],
            "image/png": "[encoded data removed]"
          },
          "metadata": {}
        }
      ],
      "source": [
        "#Q1.1\n",
        "\n",
        "airbnb_df.head()\n",
        "airbnb_price = airbnb_df['Price'].copy() # create a copy\n",
        "print(airbnb_price.unique(), '\\n') # use to check data's dirtiness\n",
        "print(airbnb_price.value_counts(), '\\n')\n",
        "\n",
        "#get rid of commas\n",
        "airbnb_price = airbnb_price.str.replace(',', '')\n",
        "\n",
        "#coerce variable to numeric\n",
        "airbnb_price = pd.to_numeric(airbnb_price, errors = 'coerce')\n",
        "\n",
        "print('After coercion: \\n', airbnb_price.describe(),'\\n')\n",
        "airbnb_price.hist(bins = 50)\n",
        "print('Total Missings: \\n', airbnb_price.isna().sum(),'\\n')\n",
        "\n",
        "print(airbnb_price.hist(), '\\n')"
      ]
    },
    {
      "cell_type": "markdown",
      "source": [
        "For this part of question 1, I first created a copy of the price variable so that the original data remains untouched if needed. I removed commas from values 1000+, this helped me coerce the data to type numeric. I summed the total missing values and got 0. My histogram looks strange, but by using 'value_counts()' I see that most prices are under 1000, but much higher prices such as 8000 still have a count of one. This means the spread of the x-axis is too large to show the spread of the majority of the prices under 1000."
      ],
      "metadata": {
        "id": "fy6T-mJGNDFe"
      },
      "id": "fy6T-mJGNDFe"
    },
    {
      "cell_type": "code",
      "source": [
        "# Q1.2\n",
        "sub_inj = police_df['subject_injury'].copy() # create a copy\n",
        "print(sub_inj.unique(), '\\n') # use to check data's dirtiness\n",
        "print(sub_inj.value_counts(), '\\n')\n",
        "\n",
        "# get rid of blank and NaN values\n",
        "sub_inj= sub_inj.replace(' ',np.nan)\n",
        "sub_inj= sub_inj.replace('NaN',np.nan)\n",
        "sub_inj.head()\n",
        "print('After coercion: \\n', sub_inj.describe(),'\\n')\n",
        "print('Total Missings: \\n', sub_inj.isna().sum(),'\\n')\n",
        "print('Total Missings: \\n', sub_inj.isna().mean(),'\\n')\n",
        "print(sub_inj.hist(), '\\n')\n",
        "\n",
        "crosstab = pd.crosstab(sub_inj, police_df['force_type'], dropna=False)\n",
        "print(crosstab)\n"
      ],
      "metadata": {
        "colab": {
          "base_uri": "https://localhost:8080/",
          "height": 1000
        },
        "id": "1G8K6B2lOwJU",
        "outputId": "3f04979e-e74a-4820-aaf3-970ba9be91dd"
      },
      "id": "1G8K6B2lOwJU",
      "execution_count": 16,
      "outputs": [
        {
          "output_type": "stream",
          "name": "stdout",
          "text": [
            "[nan 'No' 'Yes'] \n",
            "\n",
            "subject_injury\n",
            "Yes    1631\n",
            "No     1446\n",
            "Name: count, dtype: int64 \n",
            "\n",
            "After coercion: \n",
            " count     3077\n",
            "unique       2\n",
            "top        Yes\n",
            "freq      1631\n",
            "Name: subject_injury, dtype: object \n",
            "\n",
            "Total Missings: \n",
            " 9848 \n",
            "\n",
            "Total Missings: \n",
            " 0.7619342359767892 \n",
            "\n",
            "Axes(0.125,0.11;0.775x0.77) \n",
            "\n",
            "force_type      Baton  Bodily Force  Chemical Irritant  Firearm  \\\n",
            "subject_injury                                                    \n",
            "No                  0          1093                131        2   \n",
            "Yes                 2          1286                 41        0   \n",
            "NaN                 2          7051               1421        0   \n",
            "\n",
            "force_type      Gun Point Display  Improvised Weapon  Less Lethal  \\\n",
            "subject_injury                                                      \n",
            "No                             33                 34            0   \n",
            "Yes                            44                 40            0   \n",
            "NaN                            27                 74           87   \n",
            "\n",
            "force_type      Less Lethal Projectile  Maximal Restraint Technique  \\\n",
            "subject_injury                                                        \n",
            "No                                   1                            0   \n",
            "Yes                                  2                            0   \n",
            "NaN                                  0                          170   \n",
            "\n",
            "force_type      Police K9 Bite  Taser  \n",
            "subject_injury                         \n",
            "No                           2    150  \n",
            "Yes                         44    172  \n",
            "NaN                         31    985  \n"
          ]
        },
        {
          "output_type": "display_data",
          "data": {
            "text/plain": [
              "<Figure size 640x480 with 1 Axes>"
            ],
            "image/png": "[encoded data removed]"
          },
          "metadata": {}
        }
      ]
    },
    {
      "cell_type": "markdown",
      "source": [
        "The variable 'subject_injury' seems be 76% NaN values, which is concerning since it is the majority. However, after comparing with 'force_type' there seems to be some connection. Bodily force, chemical irritants, and taser seem to have the most NaN values for subject injury."
      ],
      "metadata": {
        "id": "-uKVcsCSWZTv"
      },
      "id": "-uKVcsCSWZTv"
    },
    {
      "cell_type": "code",
      "source": [
        "#Q1.3\n",
        "just_df = just_df.rename(columns = {\n",
        "    'WhetherDefendantWasReleasedPretrial':'pretrial_release'})\n",
        "var = 'pretrial_release'\n",
        "\n",
        "print(just_df[var].unique(), '\\n')\n",
        "just_df[var] = just_df[var].replace([9], np.nan)\n",
        "print(just_df[var].value_counts())\n"
      ],
      "metadata": {
        "colab": {
          "base_uri": "https://localhost:8080/"
        },
        "id": "18hrt2lcXEgS",
        "outputId": "b6b5f3f0-a27e-4e15-85cf-65c323c9e259"
      },
      "id": "18hrt2lcXEgS",
      "execution_count": 21,
      "outputs": [
        {
          "output_type": "stream",
          "name": "stdout",
          "text": [
            "[9 0 1] \n",
            "\n",
            "pretrial_release\n",
            "1.0    19154\n",
            "0.0     3801\n",
            "Name: count, dtype: int64\n"
          ]
        }
      ]
    },
    {
      "cell_type": "code",
      "source": [
        "#Q1.4\n",
        "just_df = just_df.rename(columns={\n",
        "    'ImposedSentenceAllChargeInContactEvent': 'imposed_sent',\n",
        "    'SentenceTypeAllChargesAtConvictionInContactEvent': 'sentence_type'\n",
        "})\n",
        "\n",
        "var = 'imposed_sent'\n",
        "\n",
        "just_df[var] = just_df[var].replace([' '], np.nan)\n",
        "just_df[var] = pd.to_numeric(just_df[var], errors='coerce')\n",
        "just_df.loc[just_df[var] <= 0, var] = np.nan\n",
        "just_df.loc[just_df[var] >= 900, var] = np.nan\n",
        "\n",
        "invalid_types = ['Fine', 'Dismissed', 'Acquitted']  # adjust exact labels if needed\n",
        "just_df.loc[just_df['sentence_type'].isin(invalid_types), var] = np.nan\n",
        "\n",
        "print(just_df[var].value_counts())"
      ],
      "metadata": {
        "colab": {
          "base_uri": "https://localhost:8080/"
        },
        "id": "jtNvU-RPYwmu",
        "outputId": "8b280f25-de26-4b75-c2df-ec7916ce9cf3"
      },
      "id": "jtNvU-RPYwmu",
      "execution_count": 35,
      "outputs": [
        {
          "output_type": "stream",
          "name": "stdout",
          "text": [
            "imposed_sent\n",
            "12.000000     1404\n",
            "6.000000       809\n",
            "3.000000       787\n",
            "60.000000      512\n",
            "24.000000      445\n",
            "              ... \n",
            "165.000000       1\n",
            "10.985626        1\n",
            "20.164271        1\n",
            "2.591376         1\n",
            "175.000000       1\n",
            "Name: count, Length: 454, dtype: int64\n"
          ]
        }
      ]
    },
    {
      "cell_type": "markdown",
      "source": [
        "I started by renaming the columns to make my code more legible. Then, I replaced empty values with NaN and coerced the data points to type numeric. I removed extreme values. This data set measures imposed sentences in months, so if the sentence was less than or equal to 0 months or greater than 900 months, those instances were removed. Lastly, I looked at sentence types and cross referenced with imposed sentences to get rid of imposed sentences that are not valid."
      ],
      "metadata": {
        "id": "d86Olxj_eJ9c"
      },
      "id": "d86Olxj_eJ9c"
    },
    {
      "cell_type": "markdown",
      "id": "5a60a44e",
      "metadata": {
        "id": "5a60a44e"
      },
      "source": [
        "**Q2.** Go to https://sharkattackfile.net/ and download their dataset on shark attacks (Hint: `GSAF5.xls`).\n",
        "\n",
        "1. Open the shark attack file using Pandas. It is probably not a csv file, so `read_csv` won't work.\n",
        "2. Drop any columns that do not contain data.\n",
        "3. Clean the year variable. Describe the range of values you see. Filter the rows to focus on attacks since 1940. Are attacks increasing, decreasing, or remaining constant over time?\n",
        "4. Clean the Age variable and make a histogram of the ages of the victims.\n",
        "5. What proportion of victims are male?\n",
        "6. Clean the `Type` variable so it only takes three values: Provoked and Unprovoked and Unknown. What proportion of attacks are unprovoked?\n",
        "7. Clean the `Fatal Y/N` variable so it only takes three values: Y, N, and Unknown.\n",
        "8. Are sharks more likely to launch unprovoked attacks on men or women? Is the attack more or less likely to be fatal when the attack is provoked or unprovoked? Is it more or less likely to be fatal when the victim is male or female? How do you feel about sharks?\n",
        "9. What proportion of attacks appear to be by white sharks? (Hint: `str.split()` makes a vector of text values into a list of lists, split by spaces.)"
      ]
    },
    {
      "cell_type": "code",
      "source": [
        "import pandas as pd\n",
        "shark_df = pd.read_excel('/GSAF5.xls')\n",
        "\n",
        "shark_df = shark_df.dropna(axis=1, how='all')\n",
        "shark_df['Year'] = pd.to_numeric(shark_df['Year'], errors='coerce')\n",
        "shark_df = shark_df[shark_df['Year'] >= 1940].copy()\n",
        "\n",
        "print(shark_df['Year'].head())\n",
        "print(shark_df['Year'].hist())"
      ],
      "metadata": {
        "colab": {
          "base_uri": "https://localhost:8080/",
          "height": 551
        },
        "id": "gxCrRsWSfXNu",
        "outputId": "e4871b8e-8e13-4db8-bbb9-4723c5be8d34"
      },
      "id": "gxCrRsWSfXNu",
      "execution_count": 54,
      "outputs": [
        {
          "output_type": "stream",
          "name": "stdout",
          "text": [
            "0    2025.0\n",
            "1    2025.0\n",
            "2    2025.0\n",
            "3    2025.0\n",
            "4    2025.0\n",
            "Name: Year, dtype: float64\n",
            "Axes(0.125,0.11;0.775x0.77)\n"
          ]
        },
        {
          "output_type": "display_data",
          "data": {
            "text/plain": [
              "<Figure size 640x480 with 1 Axes>"
            ],
            "image/png": "[encoded data removed]"
          },
          "metadata": {}
        }
      ]
    },
    {
      "cell_type": "markdown",
      "source": [
        "While cleaning the Year variable, I noticed that shark attacks are increasing over time."
      ],
      "metadata": {
        "id": "mKAJQ71XhKhb"
      },
      "id": "mKAJQ71XhKhb"
    },
    {
      "cell_type": "code",
      "source": [
        "import numpy as np\n",
        "shark_age = shark_df['Age'].copy()\n",
        "\n",
        "shark_age = shark_age.replace([' '], np.nan)\n",
        "shark_age = pd.to_numeric(shark_age, errors='coerce')\n",
        "shark_age.loc[shark_age <= 0] = np.nan\n",
        "\n",
        "print(shark_age.hist())"
      ],
      "metadata": {
        "colab": {
          "base_uri": "https://localhost:8080/",
          "height": 447
        },
        "id": "TmAZBWr7hVuG",
        "outputId": "9c74cb34-481b-4ce7-f77f-a9a3dc31422c"
      },
      "id": "TmAZBWr7hVuG",
      "execution_count": 42,
      "outputs": [
        {
          "output_type": "stream",
          "name": "stdout",
          "text": [
            "Axes(0.125,0.11;0.775x0.77)\n"
          ]
        },
        {
          "output_type": "display_data",
          "data": {
            "text/plain": [
              "<Figure size 640x480 with 1 Axes>"
            ],
            "image/png": "[encoded data removed]"
          },
          "metadata": {}
        }
      ]
    },
    {
      "cell_type": "code",
      "source": [
        "shark_df['Sex'] = shark_df['Sex'].replace({\n",
        "    'M': 'Male',\n",
        "    'M ': 'Male',\n",
        "    'm': 'Male',\n",
        "    ' M': 'Male',\n",
        "    'F': 'Female',\n",
        "    'F ': 'Female',\n",
        "    '': np.nan,\n",
        "    'lli': np.nan\n",
        "})\n",
        "print(shark_df['Sex'].value_counts(dropna=False))\n",
        "print(shark_df['Sex'].unique())\n",
        "male_prop = (shark_df['Sex'] == 'Male').mean()\n",
        "print(male_prop)"
      ],
      "metadata": {
        "colab": {
          "base_uri": "https://localhost:8080/"
        },
        "id": "3YlAdWaUiQd5",
        "outputId": "798493cf-2ece-41e1-c955-263a2b2f452b"
      },
      "id": "3YlAdWaUiQd5",
      "execution_count": 43,
      "outputs": [
        {
          "output_type": "stream",
          "name": "stdout",
          "text": [
            "Sex\n",
            "Male      4333\n",
            "Female     720\n",
            "NaN        454\n",
            "Name: count, dtype: int64\n",
            "['Male' 'Female' nan]\n",
            "0.7868167786453605\n"
          ]
        }
      ]
    },
    {
      "cell_type": "markdown",
      "source": [
        "78.681% of the victims are male."
      ],
      "metadata": {
        "id": "aAtLpDyKjtTO"
      },
      "id": "aAtLpDyKjtTO"
    },
    {
      "cell_type": "code",
      "source": [
        "print(shark_df['Type'].unique())\n",
        "shark_df['Type'] = shark_df['Type'].replace({\n",
        "    'Provoked': 'Provoked',\n",
        "    'Unprovoked': 'Unprovoked',\n",
        "    'Questionable': 'Unknown',\n",
        "    'unprovoked': 'Unprovoked',\n",
        "    ' Provoked': 'Provoked',\n",
        "    'Watercraft': 'Unprovoked',\n",
        "    'Sea Disaster': 'Unprovoked',\n",
        "    '?': 'Unknown',\n",
        "    'Unconfirmed': 'Unknown',\n",
        "    'Unverified': 'Unknown',\n",
        "    'Invalid': 'Unknown',\n",
        "    'Under investigation': 'Unknown',\n",
        "    'Boat': 'Unprovoked'\n",
        "})\n",
        "\n",
        "unprovoked_attacks = (shark_df['Type'] == 'Unprovoked').mean()\n",
        "print(unprovoked_attacks)"
      ],
      "metadata": {
        "colab": {
          "base_uri": "https://localhost:8080/"
        },
        "id": "ria1UFRzlHNp",
        "outputId": "9fa4c165-d3ba-489d-bddc-5b08f11d384d"
      },
      "id": "ria1UFRzlHNp",
      "execution_count": 44,
      "outputs": [
        {
          "output_type": "stream",
          "name": "stdout",
          "text": [
            "['Provoked' 'Unprovoked' 'Unknown' nan]\n",
            "0.8245868894134738\n"
          ]
        }
      ]
    },
    {
      "cell_type": "markdown",
      "source": [
        "82.459% of attacks were unprovoked."
      ],
      "metadata": {
        "id": "pCwYzAuQmkwB"
      },
      "id": "pCwYzAuQmkwB"
    },
    {
      "cell_type": "code",
      "source": [
        "print(shark_df['Fatal Y/N'].unique())\n",
        "shark_df['Fatal Y/N'] = shark_df['Fatal Y/N'].replace({\n",
        "    'N': 'N',\n",
        "    'Y': 'Y',\n",
        "    'F': 'Unknown',\n",
        "    'M': 'Unknown',\n",
        "    'n': 'N',\n",
        "    'Nq': 'Unknown',\n",
        "    'UNKNOWN': 'Unknown',\n",
        "    'Y x 2': 'Unknown',\n",
        "    ' N': 'N'\n",
        "})\n",
        "\n",
        "shark_df['Fatal Y/N'] = shark_df['Fatal Y/N'].where(\n",
        "    shark_df['Fatal Y/N'].isin(['Y', 'N', 'Unknown']),\n",
        "    'Unknown'\n",
        ")\n",
        "\n",
        "shark_df['Fatal Y/N'] = shark_df['Fatal Y/N'].fillna('Unknown')\n",
        "\n",
        "print(shark_df['Fatal Y/N'].unique())"
      ],
      "metadata": {
        "colab": {
          "base_uri": "https://localhost:8080/"
        },
        "id": "fiPKFuQ9mr2U",
        "outputId": "2484c29f-03f9-4e10-bb99-e9fd49e4780b"
      },
      "id": "fiPKFuQ9mr2U",
      "execution_count": 45,
      "outputs": [
        {
          "output_type": "stream",
          "name": "stdout",
          "text": [
            "['N' 'Y' 'Unknown']\n",
            "['N' 'Y' 'Unknown']\n"
          ]
        }
      ]
    },
    {
      "cell_type": "code",
      "source": [
        "# cross-tab of sex vs type\n",
        "attack_by_sex = pd.crosstab(shark_df['Sex'], shark_df['Type'], normalize='index')\n",
        "print(attack_by_sex, '\\n')\n",
        "\n",
        "# cross-tab of type vs. fatal\n",
        "fatal_by_type = pd.crosstab(shark_df['Type'], shark_df['Fatal Y/N'], normalize='index')\n",
        "print(fatal_by_type, '\\n')\n",
        "\n",
        "# cross-tab of fatal vs sex\n",
        "fatal_by_sex = pd.crosstab(shark_df['Sex'], shark_df['Fatal Y/N'], normalize='index')\n",
        "print(fatal_by_sex)"
      ],
      "metadata": {
        "colab": {
          "base_uri": "https://localhost:8080/"
        },
        "id": "JPC2kaApn3BA",
        "outputId": "dc195bdc-34be-446f-8afa-05bb55b86ca8"
      },
      "id": "JPC2kaApn3BA",
      "execution_count": 51,
      "outputs": [
        {
          "output_type": "stream",
          "name": "stdout",
          "text": [
            "Type    Provoked   Unknown  Unprovoked\n",
            "Sex                                   \n",
            "Female  0.039106  0.086592    0.874302\n",
            "Male    0.103632  0.072866    0.823502 \n",
            "\n",
            "Fatal Y/N          N   Unknown         Y\n",
            "Type                                    \n",
            "Provoked    0.957692  0.017308  0.025000\n",
            "Unknown     0.076389  0.888889  0.034722\n",
            "Unprovoked  0.810614  0.014094  0.175292 \n",
            "\n",
            "Fatal Y/N         N   Unknown         Y\n",
            "Sex                                    \n",
            "Female     0.794444  0.081944  0.123611\n",
            "Male       0.773367  0.074544  0.152089\n"
          ]
        }
      ]
    },
    {
      "cell_type": "markdown",
      "source": [
        "Sharks are more likely to launch unprovoked attacks on women. An attack is more likely to be fatal when unprovoked. It is more likely to be fatal when the victim is a male. I've never been close to large sharks so I am mostly indifferent towards them."
      ],
      "metadata": {
        "id": "cp2jNO0LoA3K"
      },
      "id": "cp2jNO0LoA3K"
    },
    {
      "cell_type": "code",
      "source": [
        "#print(shark_df.columns)\n",
        "print(shark_df['Species '].head())\n",
        "\n",
        "shark_df['Species '] = shark_df['Species '].astype(str)\n",
        "\n",
        "shark_df['white_shark'] = shark_df['Species '].str.lower().str.split().apply(\n",
        "    lambda words: 'white' in words\n",
        ")\n",
        "white_prop = shark_df['white_shark'].mean()\n",
        "print(white_prop)"
      ],
      "metadata": {
        "colab": {
          "base_uri": "https://localhost:8080/"
        },
        "id": "v25JbirmpR0X",
        "outputId": "f5e458af-24df-45da-be20-205d4cc83596"
      },
      "id": "v25JbirmpR0X",
      "execution_count": 63,
      "outputs": [
        {
          "output_type": "stream",
          "name": "stdout",
          "text": [
            "0    Lemon shark 1.8 m (6ft)\n",
            "1    5m (16.5ft) Great White\n",
            "2               Undetermined\n",
            "3      Suspected Great White\n",
            "4               Undetermined\n",
            "Name: Species , dtype: object\n",
            "0.1213001634283639\n"
          ]
        }
      ]
    },
    {
      "cell_type": "markdown",
      "source": [
        "About 12% of attacks appear to be by white sharks."
      ],
      "metadata": {
        "id": "IiCJJ4R_p-yu"
      },
      "id": "IiCJJ4R_p-yu"
    }
  ],
  "metadata": {
    "colab": {
      "provenance": []
    },
    "kernelspec": {
      "display_name": "Python 3 (ipykernel)",
      "language": "python",
      "name": "python3"
    },
    "language_info": {
      "codemirror_mode": {
        "name": "ipython",
        "version": 3
      },
      "file_extension": ".py",
      "mimetype": "text/x-python",
      "name": "python",
      "nbconvert_exporter": "python",
      "pygments_lexer": "ipython3",
      "version": "3.10.18"
    }
  },
  "nbformat": 4,
  "nbformat_minor": 5
}